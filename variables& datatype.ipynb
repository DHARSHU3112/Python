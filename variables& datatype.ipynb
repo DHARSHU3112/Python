{
 "cells": [
  {
   "cell_type": "markdown",
   "id": "a2270beb-d4e3-4742-9beb-76ef503dd0e5",
   "metadata": {},
   "source": [
    "1 Personal Info: Ask the user for their name, age, and city, then print a formatted sentence using those variables. \r",
    "2 \n",
    "Area of Circle: Take the radius as input and calculate the area of the circle. (Area = π * r^2) 3 \r\n",
    "String Reverser: Input a string and print it reversed.4  \r\n",
    "Average Calculator: Ask for three numbers and print their average5 . \r\n",
    "Data Type Conversion: Take a float as input and convert it to an integer, then print both value6 s. \r\n",
    "Character Count: Take a string and print the count of characters, words, and spac7 es. \r\n",
    "Boolean Check: Ask for the user's age and print True if they are 18 or older, otherwise Fa8 lse. \r\n",
    "BMI Calculator: Take the user's height and weight and calculate their BMI. (BMI = weight / heig9 ht^2) \r\n",
    "Currency Converter: Convert a given amount in USD to INR (Assume 1 USD = 8310  INR). \r\n",
    "Palindrome Checker: Input a word and check if it’s a palindrome (reads the same forwards and backwards). \r\n",
    " \r\n"
   ]
  },
  {
   "cell_type": "markdown",
   "id": "2d5509e5-0362-436c-a22b-4f41fdbd6bd9",
   "metadata": {},
   "source": [
    "1.Personal Info"
   ]
  },
  {
   "cell_type": "code",
   "execution_count": 2,
   "id": "3fb7b787-c22e-434b-847b-d090e626761d",
   "metadata": {},
   "outputs": [
    {
     "name": "stdin",
     "output_type": "stream",
     "text": [
      "enter the name: Hitler\n",
      "enter age: 45\n",
      "enter city: Germany\n"
     ]
    },
    {
     "name": "stdout",
     "output_type": "stream",
     "text": [
      "My Name is Hitler.I was 45 and stay in Germany\n"
     ]
    }
   ],
   "source": [
    "name=input(\"enter the name:\")\n",
    "age=int(input(\"enter age:\"))\n",
    "city=input(\"enter city:\")\n",
    "print(f\"My Name is {name}.I was {age} and stay in {city}\")"
   ]
  },
  {
   "cell_type": "markdown",
   "id": "b082d224-63a2-4e04-9c38-1cac57310534",
   "metadata": {},
   "source": [
    "2.Area of Circle"
   ]
  },
  {
   "cell_type": "code",
   "execution_count": 4,
   "id": "4a72c6ef-3beb-42e6-8cb9-20ceeec03ec1",
   "metadata": {},
   "outputs": [
    {
     "name": "stdin",
     "output_type": "stream",
     "text": [
      "enter value: 4\n"
     ]
    },
    {
     "name": "stdout",
     "output_type": "stream",
     "text": [
      "50.24\n"
     ]
    }
   ],
   "source": [
    "r=int(input(\"enter value:\"))\n",
    "area= 3.14*r**2\n",
    "print(area)"
   ]
  },
  {
   "cell_type": "markdown",
   "id": "2f090897-5e71-4f83-aa04-8d26751e9dfe",
   "metadata": {},
   "source": [
    "3.Reversing the String"
   ]
  },
  {
   "cell_type": "code",
   "execution_count": 7,
   "id": "2351c9b0-0bd8-45cd-a2f5-f6e94ee534a6",
   "metadata": {},
   "outputs": [
    {
     "name": "stdout",
     "output_type": "stream",
     "text": [
      "yrautcnaS efildliW\n"
     ]
    }
   ],
   "source": [
    "a=\"Wildlife Sanctuary\"\n",
    "b=a[::-1]\n",
    "print(b)"
   ]
  },
  {
   "cell_type": "markdown",
   "id": "22d81b09-f163-4d73-91b1-61768347e201",
   "metadata": {},
   "source": [
    "4.Average Calculator"
   ]
  },
  {
   "cell_type": "code",
   "execution_count": 8,
   "id": "a7d86af9-f841-4484-a956-0da6c7ee98e6",
   "metadata": {},
   "outputs": [
    {
     "name": "stdin",
     "output_type": "stream",
     "text": [
      "enter value: 10\n",
      "enter value: 20\n",
      "enter value: 30\n"
     ]
    },
    {
     "name": "stdout",
     "output_type": "stream",
     "text": [
      "20.0\n"
     ]
    }
   ],
   "source": [
    "x= int(input(\"enter value:\"))\n",
    "y=int(input(\"enter value:\"))\n",
    "z=int(input(\"enter value:\"))\n",
    "average = (x+y+z)/3\n",
    "print(average)"
   ]
  },
  {
   "cell_type": "markdown",
   "id": "4539064c-7141-43be-8f4f-8197b99c3937",
   "metadata": {},
   "source": [
    "5.Datatype Conversion"
   ]
  },
  {
   "cell_type": "code",
   "execution_count": 10,
   "id": "0cd44592-389b-4ab3-88aa-0aaa47bdc8b7",
   "metadata": {},
   "outputs": [
    {
     "name": "stdin",
     "output_type": "stream",
     "text": [
      "enter the value: 5.67\n"
     ]
    },
    {
     "name": "stdout",
     "output_type": "stream",
     "text": [
      "5.67\n",
      "5\n"
     ]
    }
   ],
   "source": [
    "c= float(input(\"enter the value:\"))\n",
    "print(c)\n",
    "d=int(c)\n",
    "print(d)"
   ]
  },
  {
   "cell_type": "markdown",
   "id": "82350425-3703-4c70-b5b7-c6e8837be71a",
   "metadata": {},
   "source": [
    "6.Character Count"
   ]
  },
  {
   "cell_type": "code",
   "execution_count": 11,
   "id": "c11266cf-0d15-4ebd-b832-4278a08c8b9c",
   "metadata": {},
   "outputs": [
    {
     "data": {
      "text/plain": [
       "21"
      ]
     },
     "execution_count": 11,
     "metadata": {},
     "output_type": "execute_result"
    }
   ],
   "source": [
    "e=\"plan a trip to venice\"\n",
    "len(e)"
   ]
  },
  {
   "cell_type": "markdown",
   "id": "e535e423-2c9e-4269-8774-8f8724dd43bc",
   "metadata": {},
   "source": [
    "7.Boolean Check"
   ]
  },
  {
   "cell_type": "code",
   "execution_count": 14,
   "id": "16f62953-94d0-4a17-8efd-c0df2737cd98",
   "metadata": {},
   "outputs": [
    {
     "name": "stdin",
     "output_type": "stream",
     "text": [
      "enter age: 65\n"
     ]
    },
    {
     "name": "stdout",
     "output_type": "stream",
     "text": [
      "True\n"
     ]
    }
   ],
   "source": [
    "user_age = input(\"enter age:\")\n",
    "if age>=18:\n",
    "    print(bool(\"True\"))\n",
    "else:\n",
    "    print(bool(\"False\"))"
   ]
  },
  {
   "cell_type": "markdown",
   "id": "8396b740-c732-4648-8211-e1706a65e040",
   "metadata": {},
   "source": [
    "8.BMI Calculator"
   ]
  },
  {
   "cell_type": "code",
   "execution_count": 27,
   "id": "ae5a7103-2265-4106-a6fa-29939bbdc767",
   "metadata": {},
   "outputs": [
    {
     "name": "stdin",
     "output_type": "stream",
     "text": [
      "enter weight: 40\n",
      "enter height: 145\n"
     ]
    },
    {
     "name": "stdout",
     "output_type": "stream",
     "text": [
      "BODY MASS INDEX: 40/21025.0\n"
     ]
    }
   ],
   "source": [
    "weight=input(\"enter weight:\")\n",
    "height=float(input(\"enter height:\"))\n",
    "h=height**2\n",
    "BMI=f\"{weight}/{h}\"\n",
    "print(\"BODY MASS INDEX:\",BMI)"
   ]
  },
  {
   "cell_type": "markdown",
   "id": "4d53fa22-c1f5-44cb-84d6-92d4a7454e97",
   "metadata": {},
   "source": [
    "9.Currency Convertor"
   ]
  },
  {
   "cell_type": "code",
   "execution_count": 32,
   "id": "61e25868-1b7b-43c6-900c-6c8db7d0772b",
   "metadata": {},
   "outputs": [
    {
     "name": "stdin",
     "output_type": "stream",
     "text": [
      "INR: 34\n"
     ]
    },
    {
     "name": "stdout",
     "output_type": "stream",
     "text": [
      "USD: 2822\n"
     ]
    }
   ],
   "source": [
    "rupees= int(input(\"INR:\"))\n",
    "dollar= rupees*83\n",
    "print(\"USD:\",dollar)"
   ]
  },
  {
   "cell_type": "markdown",
   "id": "5695e258-2ff9-4a43-a996-792cc18a9237",
   "metadata": {},
   "source": [
    "10.Palindrome Checker"
   ]
  },
  {
   "cell_type": "code",
   "execution_count": 34,
   "id": "6431df77-cd88-4e74-83f9-83c26a762195",
   "metadata": {},
   "outputs": [
    {
     "name": "stdin",
     "output_type": "stream",
     "text": [
      "enter value: madam\n"
     ]
    },
    {
     "name": "stdout",
     "output_type": "stream",
     "text": [
      "Yes,it'S a palindrome\n"
     ]
    }
   ],
   "source": [
    "k=input(\"enter value:\")\n",
    "d=k[::-1]\n",
    "if k==d:\n",
    "    print(\"Yes,it'S a palindrome\")\n",
    "else:\n",
    "    print(\"No,it's not a palindrome\")"
   ]
  },
  {
   "cell_type": "code",
   "execution_count": null,
   "id": "2db972a3-157d-496b-bfd2-5de753bcf024",
   "metadata": {},
   "outputs": [],
   "source": []
  }
 ],
 "metadata": {
  "kernelspec": {
   "display_name": "Python 3 (ipykernel)",
   "language": "python",
   "name": "python3"
  },
  "language_info": {
   "codemirror_mode": {
    "name": "ipython",
    "version": 3
   },
   "file_extension": ".py",
   "mimetype": "text/x-python",
   "name": "python",
   "nbconvert_exporter": "python",
   "pygments_lexer": "ipython3",
   "version": "3.11.7"
  }
 },
 "nbformat": 4,
 "nbformat_minor": 5
}
