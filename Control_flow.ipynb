{
 "cells": [
  {
   "cell_type": "code",
   "execution_count": null,
   "id": "78fbcd32-f130-48b5-b740-005e64edcf69",
   "metadata": {},
   "outputs": [],
   "source": [
    "Statements tasks :\n",
    "1. Positive, Negative, or Zero: Check if a number is positive, negative, or zero.\n",
    "2. Even or Odd: Check if a given number is even or odd.\n",
    "3. Voting Eligibility: Determine if a user is eligible to vote (age ≥ 18).\n",
    "4. Leap Year Checker: Check if a given year is a leap year.\n",
    "5. Largest of Three Numbers: Find the largest among three given numbers.\n",
    "6. Grade Calculator: Assign a grade (A-F) based on a score between 0 and 100.\n",
    "7. Divisibility Check: Check if a number is divisible by both 3 and 5.\n",
    "8. Character Type Checker: Check if an input character is a vowel, consonant, or not a letter.\n",
    "9. Evenly Divisible or Not: Check if one number is evenly divisible by another.\n",
    "10. Triangle Type Checker: Determine if a triangle is equilateral, isosceles, or scalene based on its sides.\n",
    "\n"
   ]
  },
  {
   "cell_type": "markdown",
   "id": "d7e9503b-d78e-476e-bdf7-dd7691b28d4c",
   "metadata": {},
   "source": [
    "1.Check Whether the Number is positive,negative or zero"
   ]
  },
  {
   "cell_type": "code",
   "execution_count": 1,
   "id": "4470d6bf-0d90-43e9-ad80-35441074714e",
   "metadata": {},
   "outputs": [
    {
     "name": "stdin",
     "output_type": "stream",
     "text": [
      "enter number: 7\n"
     ]
    },
    {
     "name": "stdout",
     "output_type": "stream",
     "text": [
      "Number is positive\n"
     ]
    }
   ],
   "source": [
    "number= int(input(\"enter number:\"))\n",
    "if number==0:\n",
    "    print(\"Number is \",number)\n",
    "elif number>0:\n",
    "    print(\"Number is positive\")\n",
    "else:\n",
    "    print(\"Number is negative\")"
   ]
  },
  {
   "cell_type": "markdown",
   "id": "72445e66-c5da-422e-ab9e-72953cd46e06",
   "metadata": {},
   "source": [
    "2.Check whether the given number is even or odd"
   ]
  },
  {
   "cell_type": "code",
   "execution_count": 2,
   "id": "34e18e11-db28-4bf5-a328-32bcb479d085",
   "metadata": {},
   "outputs": [
    {
     "name": "stdin",
     "output_type": "stream",
     "text": [
      "enter value: 9\n"
     ]
    },
    {
     "name": "stdout",
     "output_type": "stream",
     "text": [
      "9 is odd number\n"
     ]
    }
   ],
   "source": [
    "num=int(input(\"enter value:\"))\n",
    "if num%2==0:\n",
    "    print(num,\"is even number\")\n",
    "else:\n",
    "    print(num,\"is odd number\")"
   ]
  },
  {
   "cell_type": "markdown",
   "id": "2013f22f-71a9-4fdc-b0b6-376f550a9924",
   "metadata": {},
   "source": [
    "3.Check Whether The Person is Eligible to vote"
   ]
  },
  {
   "cell_type": "code",
   "execution_count": 4,
   "id": "df606f78-3e5d-4d9c-a20a-ebdf011ab803",
   "metadata": {},
   "outputs": [
    {
     "name": "stdin",
     "output_type": "stream",
     "text": [
      "enter age: 45\n"
     ]
    },
    {
     "name": "stdout",
     "output_type": "stream",
     "text": [
      "Eligible to vote\n"
     ]
    }
   ],
   "source": [
    "n=int(input(\"enter age:\"))\n",
    "if n >=18:\n",
    "    print(\"Eligible to vote\")\n",
    "else:\n",
    "    print(\"Not Eligible to vote\")"
   ]
  },
  {
   "cell_type": "markdown",
   "id": "f018812c-6f62-461c-b855-9fee623469fb",
   "metadata": {},
   "source": [
    "4.Check If Given Year is Leap Year"
   ]
  },
  {
   "cell_type": "code",
   "execution_count": 5,
   "id": "081a588a-4969-4547-a223-de3496fdf80f",
   "metadata": {},
   "outputs": [
    {
     "name": "stdin",
     "output_type": "stream",
     "text": [
      "enter year: 2024\n"
     ]
    },
    {
     "name": "stdout",
     "output_type": "stream",
     "text": [
      "2024 year is leap year\n"
     ]
    }
   ],
   "source": [
    "year=int(input(\"enter year:\"))\n",
    "if year%4==0:\n",
    "    print(year,\"year is leap year\")\n",
    "else:\n",
    "    print(year,\"year is not leap year\")"
   ]
  },
  {
   "cell_type": "markdown",
   "id": "b6cc5ad3-0e2c-4f9c-8c4e-214845ba5bdd",
   "metadata": {},
   "source": [
    "5.Find Largest Number Among 3 numbers"
   ]
  },
  {
   "cell_type": "code",
   "execution_count": 6,
   "id": "2026fa95-5d6b-46e3-85a9-ba41dba1cb53",
   "metadata": {},
   "outputs": [
    {
     "name": "stdin",
     "output_type": "stream",
     "text": [
      "number_1: 45\n",
      "number_2: 54\n",
      "number_3: 67\n"
     ]
    },
    {
     "name": "stdout",
     "output_type": "stream",
     "text": [
      "67 is greater\n"
     ]
    }
   ],
   "source": [
    "a=int(input(\"number_1:\"))\n",
    "b=int(input(\"number_2:\"))\n",
    "c=int(input(\"number_3:\"))\n",
    "if a>b and a>c:\n",
    "    print(a,\"is greater\")\n",
    "elif b>a and b>c:\n",
    "    print(b,\"is greater\")\n",
    "else:\n",
    "    print(c,\"is greater\")"
   ]
  },
  {
   "cell_type": "markdown",
   "id": "884a9754-154e-49d3-8e00-9bff92b9d4d9",
   "metadata": {},
   "source": [
    "6.Grade Calculator"
   ]
  },
  {
   "cell_type": "code",
   "execution_count": 8,
   "id": "af441f31-f9d6-47a4-809b-b8cde44ea261",
   "metadata": {},
   "outputs": [
    {
     "name": "stdin",
     "output_type": "stream",
     "text": [
      "mark: 75\n"
     ]
    },
    {
     "name": "stdout",
     "output_type": "stream",
     "text": [
      "Grade D\n"
     ]
    }
   ],
   "source": [
    "mark= int(input(\"mark:\"))\n",
    "if mark>90:\n",
    "    print(\"Grade A\")\n",
    "elif mark>80:\n",
    "    print(\"Grade B\")\n",
    "elif mark>70:\n",
    "    print(\"Grade D\")\n",
    "elif mark>60:\n",
    "    print(\"Grade E\")\n",
    "else:\n",
    "    print(\"Grade F\")\n",
    "          "
   ]
  },
  {
   "cell_type": "markdown",
   "id": "e49b2418-66b5-45c3-a66c-08483faf0a76",
   "metadata": {},
   "source": [
    "7.Check whether the Given number is divisible by 3 & 5"
   ]
  },
  {
   "cell_type": "code",
   "execution_count": 19,
   "id": "47e867f1-fc28-4f65-948e-e575ac3948f2",
   "metadata": {},
   "outputs": [
    {
     "name": "stdin",
     "output_type": "stream",
     "text": [
      "number: 89\n"
     ]
    },
    {
     "name": "stdout",
     "output_type": "stream",
     "text": [
      "89 is not divisible by both\n"
     ]
    }
   ],
   "source": [
    "div=int(input(\"number:\"))\n",
    "if (div%3==0 and div%5==0):\n",
    "    print(div,\"is divisible by both\")\n",
    "else:\n",
    "    print(div,\"is not divisible by both\")"
   ]
  },
  {
   "cell_type": "markdown",
   "id": "41c3d1ac-de68-4ecf-8f7e-fbdba2c8940b",
   "metadata": {},
   "source": [
    "8.Check Whether the input Character is a vowel,consonant or not a letter"
   ]
  },
  {
   "cell_type": "code",
   "execution_count": 22,
   "id": "a7de0748-b543-4d97-89b2-6d1012a71a96",
   "metadata": {},
   "outputs": [
    {
     "name": "stdin",
     "output_type": "stream",
     "text": [
      "character: p\n"
     ]
    },
    {
     "name": "stdout",
     "output_type": "stream",
     "text": [
      "Character is consonant\n"
     ]
    }
   ],
   "source": [
    "b=input(\"character:\")\n",
    "a=['a','e','i','o','u']\n",
    "if b in a:\n",
    "    print(\"character is vowel\")\n",
    "else:\n",
    "    print(\"Character is consonant\")\n"
   ]
  },
  {
   "cell_type": "markdown",
   "id": "8d60e1f5-5fd0-4b80-af32-33546c363cd5",
   "metadata": {},
   "source": [
    "9. Check if one number is evenly divisible by another"
   ]
  },
  {
   "cell_type": "code",
   "execution_count": 32,
   "id": "61e3bf19-e7ec-4a59-8495-56416feacad3",
   "metadata": {},
   "outputs": [
    {
     "name": "stdin",
     "output_type": "stream",
     "text": [
      "enter number: 8\n"
     ]
    },
    {
     "name": "stdout",
     "output_type": "stream",
     "text": [
      "Composite number\n"
     ]
    }
   ],
   "source": [
    "number=int(input(\"enter number:\"))\n",
    "for i in range(2,number):\n",
    "    if number%i==0:\n",
    "        print(\"Composite number\")\n",
    "        break# print statement executes 2 times because 8%2==0 and 8%4=0.so include break to execute print statement once\n",
    "else:\n",
    "    print(\"Prime number\")"
   ]
  },
  {
   "cell_type": "markdown",
   "id": "27a4faa6-5988-43ca-9cf5-8e34e93a8f74",
   "metadata": {},
   "source": [
    "10.Determine the type of Triangle:"
   ]
  },
  {
   "cell_type": "code",
   "execution_count": 24,
   "id": "3bfb98af-1a4c-4c0b-971d-7700fa20b68a",
   "metadata": {},
   "outputs": [
    {
     "name": "stdin",
     "output_type": "stream",
     "text": [
      "side: 12\n",
      "side: 12\n",
      "side: 8\n"
     ]
    },
    {
     "name": "stdout",
     "output_type": "stream",
     "text": [
      "Given sides form Isosceles Triangle\n"
     ]
    }
   ],
   "source": [
    "side_1=int(input(\"side:\"))\n",
    "side_2=int(input(\"side:\"))\n",
    "side_3=int(input(\"side:\"))\n",
    "if side_1==side_2==side_3:\n",
    "    print(\"Given sides form Equilateral Triangle\")\n",
    "elif side_1==side_2 or side_2==side_3 or side_3 ==side_1:\n",
    "    print(\"Given sides form Isosceles Triangle\")\n",
    "else:\n",
    "    print(\"Given sides form Scalene Triangle\")"
   ]
  },
  {
   "cell_type": "code",
   "execution_count": null,
   "id": "9ebb67c8-7a96-42fc-a641-7a7b35235c6d",
   "metadata": {},
   "outputs": [],
   "source": [
    "11.Number Range Checker: Check if a number lies between 10 and 50. \n",
    "12.Simple Calculator (if-else): Build a calculator that performs addition, subtraction, multiplication, or division based on user choice. \n",
    "13.Age Category: Input age and classify as Child (<13), Teenager (13-19), Adult (20-59), or Senior (60+). \n",
    "14.Factorial Calculator: Input a number and calculate its factorial using a loop. \n",
    "15.Prime Number Checker: Input a number and check if it’s prime. \n",
    "16.FizzBuzz: Print numbers from 1 to 50, but for multiples of 3 print \"Fizz\", for multiples of 5 print \"Buzz\", and for multiples of both print \"FizzBuzz\". \n",
    "17.Password Validator: Check if an input password meets these criteria: minimum 8 characters, contains numbers, and at least one special character. "
   ]
  },
  {
   "cell_type": "markdown",
   "id": "4f3c955c-e4d3-4100-8d85-57cb2db5de13",
   "metadata": {},
   "source": [
    "11.Number Range Checker"
   ]
  },
  {
   "cell_type": "code",
   "execution_count": 4,
   "id": "1358ca98-ec45-4a68-9554-3e51b5e44261",
   "metadata": {},
   "outputs": [
    {
     "name": "stdin",
     "output_type": "stream",
     "text": [
      "enter number: 98\n"
     ]
    },
    {
     "name": "stdout",
     "output_type": "stream",
     "text": [
      "98 donot lie between 10 and 50\n"
     ]
    }
   ],
   "source": [
    "number= int(input(\"enter number:\"))\n",
    "if (number >10 and number<50):\n",
    "    print(number,\"lie between 10 and 50\")\n",
    "else:\n",
    "    print(number,\"donot lie between 10 and 50\")"
   ]
  },
  {
   "cell_type": "markdown",
   "id": "5f1cfc0b-a973-4d06-ab79-a4b8a1d29d88",
   "metadata": {},
   "source": [
    "12.Simple Calculator"
   ]
  },
  {
   "cell_type": "code",
   "execution_count": 2,
   "id": "99c6200a-27c9-4385-8857-0e63ebe6405d",
   "metadata": {},
   "outputs": [
    {
     "name": "stdin",
     "output_type": "stream",
     "text": [
      "enter: 32\n",
      "enter: 4\n"
     ]
    },
    {
     "name": "stdout",
     "output_type": "stream",
     "text": [
      "Addition: 36\n",
      "Subtraction: 28\n",
      "Multiplication: 128\n",
      "Division: 8.0\n"
     ]
    }
   ],
   "source": [
    "a=int(input(\"enter:\"))\n",
    "b=int(input(\"enter:\"))\n",
    "add=a+b\n",
    "sub=a-b\n",
    "mul=a*b\n",
    "div=a/b\n",
    "if (a>0 and b>0):\n",
    "    print(\"Addition:\",add)\n",
    "    print(\"Subtraction:\",sub)\n",
    "    print(\"Multiplication:\",mul)\n",
    "    print(\"Division:\",div)\n",
    "else:\n",
    "    print(\"enter positive integer\")"
   ]
  },
  {
   "cell_type": "markdown",
   "id": "a68024dd-da8f-48f8-b063-4e80dfc39e77",
   "metadata": {},
   "source": [
    "13.Age classification"
   ]
  },
  {
   "cell_type": "code",
   "execution_count": 3,
   "id": "98dbf8fa-dd39-4a5c-910e-26336dd71e1c",
   "metadata": {},
   "outputs": [
    {
     "name": "stdin",
     "output_type": "stream",
     "text": [
      "enter age: 18\n"
     ]
    },
    {
     "name": "stdout",
     "output_type": "stream",
     "text": [
      "Teenager\n"
     ]
    }
   ],
   "source": [
    "age=int(input(\"enter age:\"))\n",
    "if age<13:\n",
    "    print(\"Child\")\n",
    "elif (age>=13 and age<=19):\n",
    "    print(\"Teenager\")\n",
    "elif(age>=20 and age<=59):\n",
    "    print(\"Adult\")\n",
    "else:\n",
    "    print(\"Senior\")"
   ]
  },
  {
   "cell_type": "markdown",
   "id": "cbaeabfb-7d97-4afb-a193-53c022607d5a",
   "metadata": {},
   "source": [
    "14.Factorial"
   ]
  },
  {
   "cell_type": "code",
   "execution_count": 24,
   "id": "e9cfd107-701c-4756-8d3b-778c402d4b01",
   "metadata": {},
   "outputs": [
    {
     "name": "stdin",
     "output_type": "stream",
     "text": [
      "number: 4\n"
     ]
    },
    {
     "name": "stdout",
     "output_type": "stream",
     "text": [
      "Factorial of 4 is 24\n"
     ]
    }
   ],
   "source": [
    "number=int(input(\"number:\"))\n",
    "fact=1\n",
    "for i in range(1,number+1):\n",
    "       fact=fact*i\n",
    "print(\"Factorial of\",number,\"is\",fact)"
   ]
  },
  {
   "cell_type": "markdown",
   "id": "d980f452-039f-4bdd-b2cb-39ab609d1b28",
   "metadata": {},
   "source": [
    "15.Prime Number"
   ]
  },
  {
   "cell_type": "code",
   "execution_count": 18,
   "id": "554a5de0-7565-4ad3-8519-914764c470c7",
   "metadata": {},
   "outputs": [
    {
     "name": "stdout",
     "output_type": "stream",
     "text": [
      "Prime number\n"
     ]
    }
   ],
   "source": [
    "num=7\n",
    "for i in range(2,num):\n",
    "    if num%i==0:\n",
    "        print(\"not Prime number\")\n",
    "        break\n",
    "else:\n",
    "    print(\"Prime number\")\n",
    "\n",
    "    "
   ]
  },
  {
   "cell_type": "markdown",
   "id": "3fcb8c42-c283-4f6a-b58c-057a839da116",
   "metadata": {},
   "source": [
    "16.Print numbers from 1 to 50, but for multiples of 3 print \"Fizz\", for multiples of 5 print \"Buzz\", and for multiples of both print \"FizzBuzz\". "
   ]
  },
  {
   "cell_type": "code",
   "execution_count": 33,
   "id": "f59a65e3-d87b-4ee9-9ce8-8a80041944f4",
   "metadata": {},
   "outputs": [
    {
     "name": "stdin",
     "output_type": "stream",
     "text": [
      "enter number: 45\n"
     ]
    },
    {
     "name": "stdout",
     "output_type": "stream",
     "text": [
      "FizzBuzz\n"
     ]
    }
   ],
   "source": [
    "n=int(input(\"enter number:\"))\n",
    "if (n%3==0 and n%5==0):\n",
    "    print(\"FizzBuzz\")\n",
    "elif (n%5==0):\n",
    "    print(\"Buzz\")\n",
    "elif (n%3==0):\n",
    "    print(\"Fizz\")\n",
    "else:\n",
    "    print(\"not a multiple of 3 & 5\")"
   ]
  },
  {
   "cell_type": "markdown",
   "id": "bc179dac-ccb3-4eb6-a5e7-0dd757469c07",
   "metadata": {},
   "source": [
    "17.Check if an input password meets these criteria: minimum 8 characters, contains numbers, and at least one special character"
   ]
  },
  {
   "cell_type": "code",
   "execution_count": 19,
   "id": "5f5fe34b-0e80-4937-b61d-6970c16cf434",
   "metadata": {},
   "outputs": [
    {
     "name": "stdin",
     "output_type": "stream",
     "text": [
      "enter password: yutre56@\n"
     ]
    },
    {
     "name": "stdout",
     "output_type": "stream",
     "text": [
      "Valid Password\n"
     ]
    }
   ],
   "source": [
    "while True:\n",
    "    password=input(\"enter password:\")\n",
    "    if len(password)>=8:\n",
    "        if any(i.isdigit() for i in password):\n",
    "            if any(i in\"!@#$%^&*()_+|?><~\" for i in password):\n",
    "                print(\"Valid Password\")\n",
    "                break\n",
    "    else:\n",
    "        print(\"enter correct password\")"
   ]
  },
  {
   "cell_type": "markdown",
   "id": "f178ca32-359c-445e-b265-95ff80de8aa6",
   "metadata": {},
   "source": [
    "18. Print the first 10 natural numbers\n",
    "✅ Use for loop"
   ]
  },
  {
   "cell_type": "code",
   "execution_count": 34,
   "id": "96bc3d66-0be1-4ae2-a511-2e2a475d358c",
   "metadata": {},
   "outputs": [
    {
     "name": "stdout",
     "output_type": "stream",
     "text": [
      "1\n",
      "2\n",
      "3\n",
      "4\n",
      "5\n",
      "6\n",
      "7\n",
      "8\n",
      "9\n",
      "10\n"
     ]
    }
   ],
   "source": [
    "for i in range(1,11):\n",
    "    print(i)\n"
   ]
  },
  {
   "cell_type": "code",
   "execution_count": null,
   "id": "8752875c-27e0-4846-b851-ad41efdef875",
   "metadata": {},
   "outputs": [],
   "source": [
    "19. Keep asking the user for a number until they enter a negative number\n",
    "✅ Use while loop"
   ]
  },
  {
   "cell_type": "code",
   "execution_count": 8,
   "id": "3a380aaf-72d6-47f8-9ea8-f9a707870837",
   "metadata": {},
   "outputs": [
    {
     "name": "stdin",
     "output_type": "stream",
     "text": [
      "enter number: 8\n"
     ]
    },
    {
     "name": "stdout",
     "output_type": "stream",
     "text": [
      "enter negative number\n"
     ]
    },
    {
     "name": "stdin",
     "output_type": "stream",
     "text": [
      "enter number: 7\n"
     ]
    },
    {
     "name": "stdout",
     "output_type": "stream",
     "text": [
      "enter negative number\n"
     ]
    },
    {
     "name": "stdin",
     "output_type": "stream",
     "text": [
      "enter number: -9\n"
     ]
    },
    {
     "name": "stdout",
     "output_type": "stream",
     "text": [
      "negative number is entered\n"
     ]
    }
   ],
   "source": [
    "while True:\n",
    "    n=int(input(\"enter number:\"))\n",
    "    if n<0:\n",
    "        print(\"negative number is entered\")\n",
    "        break\n",
    "    else:\n",
    "        print(\"enter negative number\")"
   ]
  },
  {
   "cell_type": "code",
   "execution_count": null,
   "id": "57ae882f-5c68-45a3-a5a4-785c5e0bda21",
   "metadata": {},
   "outputs": [],
   "source": [
    "20. Print all even numbers from 1 to 50\n",
    "✅ Use for loop"
   ]
  },
  {
   "cell_type": "code",
   "execution_count": 35,
   "id": "1f4c74ed-18a7-44a0-a3ce-94fe2ef5c49d",
   "metadata": {},
   "outputs": [
    {
     "name": "stdout",
     "output_type": "stream",
     "text": [
      "2\n",
      "4\n",
      "6\n",
      "8\n",
      "10\n",
      "12\n",
      "14\n",
      "16\n",
      "18\n",
      "20\n",
      "22\n",
      "24\n",
      "26\n",
      "28\n",
      "30\n",
      "32\n",
      "34\n",
      "36\n",
      "38\n",
      "40\n",
      "42\n",
      "44\n",
      "46\n",
      "48\n",
      "50\n"
     ]
    }
   ],
   "source": [
    "for i in range(1,51):\n",
    "    if i%2==0:\n",
    "        print(i)"
   ]
  },
  {
   "cell_type": "code",
   "execution_count": null,
   "id": "82056b29-aa43-424e-823b-3e6ad4ba00a2",
   "metadata": {},
   "outputs": [],
   "source": [
    "21. Find the sum of digits of a number\n",
    "✅ Use while loop"
   ]
  },
  {
   "cell_type": "code",
   "execution_count": 5,
   "id": "b391f4f0-75d6-4276-b10f-91e0cb740940",
   "metadata": {},
   "outputs": [
    {
     "name": "stdin",
     "output_type": "stream",
     "text": [
      "enter number: 9\n"
     ]
    },
    {
     "name": "stdout",
     "output_type": "stream",
     "text": [
      "45\n"
     ]
    }
   ],
   "source": [
    "num=int(input(\"enter number:\"))\n",
    "i=0\n",
    "sum=0\n",
    "while(i<=num):\n",
    "    sum=sum+i\n",
    "    i=i+1\n",
    "print(sum)\n"
   ]
  },
  {
   "cell_type": "code",
   "execution_count": null,
   "id": "d6313c43-350f-4b6d-9d33-21d49158a397",
   "metadata": {},
   "outputs": [],
   "source": [
    "22. Print the elements of a list one by one\n",
    "✅ Use for loop"
   ]
  },
  {
   "cell_type": "code",
   "execution_count": 6,
   "id": "9cdb974e-4f33-4437-a768-2d531c076b96",
   "metadata": {},
   "outputs": [
    {
     "name": "stdout",
     "output_type": "stream",
     "text": [
      "Tree\n",
      "Kite\n",
      "90\n",
      "45\n",
      "[23, 45, 'pop']\n",
      "('latin', 45, 'swiz')\n",
      "78\n"
     ]
    }
   ],
   "source": [
    "p=[\"Tree\",\"Kite\",90,45,[23,45,\"pop\"],(\"latin\",45,\"swiz\"),78]\n",
    "for i in p:\n",
    "    print(i)"
   ]
  },
  {
   "cell_type": "code",
   "execution_count": null,
   "id": "325c59c5-76b7-4640-8ebf-3bfc84b540c6",
   "metadata": {},
   "outputs": [],
   "source": [
    "23. Keep doubling a number until it exceeds 1000\n",
    "✅ Use while loop"
   ]
  },
  {
   "cell_type": "code",
   "execution_count": 9,
   "id": "797a4342-ec61-416e-a7fc-a30f426a32a1",
   "metadata": {},
   "outputs": [
    {
     "name": "stdout",
     "output_type": "stream",
     "text": [
      "2\n",
      "4\n",
      "8\n",
      "16\n",
      "32\n",
      "64\n",
      "128\n",
      "256\n",
      "512\n"
     ]
    }
   ],
   "source": [
    "n=1\n",
    "while (n<=1000):\n",
    "    n=2*n\n",
    "    if(n>1000):\n",
    "        break\n",
    "    else:\n",
    "       print(n)"
   ]
  },
  {
   "cell_type": "code",
   "execution_count": 4,
   "id": "e27b3980-4dce-4532-8341-58aa2fe76935",
   "metadata": {},
   "outputs": [
    {
     "name": "stdout",
     "output_type": "stream",
     "text": [
      "2\n",
      "4\n",
      "8\n",
      "16\n",
      "32\n",
      "64\n",
      "128\n",
      "256\n",
      "512\n",
      "1024\n",
      "Value exceeds 1000\n"
     ]
    }
   ],
   "source": [
    "n=1\n",
    "while(n<=1000):\n",
    "    n=2*n\n",
    "    print(n)\n",
    "else:\n",
    "    print(\"Value exceeds 1000\")"
   ]
  },
  {
   "cell_type": "code",
   "execution_count": null,
   "id": "81b9a083-f7a6-4c03-98e8-f48e6fbc4446",
   "metadata": {},
   "outputs": [],
   "source": [
    "24. Print a multiplication table for a given number\n",
    "✅ Use for loop"
   ]
  },
  {
   "cell_type": "code",
   "execution_count": 9,
   "id": "61aa68cc-3a68-42ee-8e44-7cee67e132a9",
   "metadata": {},
   "outputs": [
    {
     "name": "stdin",
     "output_type": "stream",
     "text": [
      "enter number: 7\n"
     ]
    },
    {
     "name": "stdout",
     "output_type": "stream",
     "text": [
      "7 * 0 = 0\n",
      "7 * 1 = 7\n",
      "7 * 2 = 14\n",
      "7 * 3 = 21\n",
      "7 * 4 = 28\n",
      "7 * 5 = 35\n",
      "7 * 6 = 42\n",
      "7 * 7 = 49\n",
      "7 * 8 = 56\n",
      "7 * 9 = 63\n",
      "7 * 10 = 70\n"
     ]
    }
   ],
   "source": [
    "num=int(input(\"enter number:\"))\n",
    "for i in range(11):\n",
    "    print(num,\"*\",i,\"=\",num*i)"
   ]
  },
  {
   "cell_type": "code",
   "execution_count": null,
   "id": "e29285da-f120-42ac-bfcf-bd863014863b",
   "metadata": {},
   "outputs": [],
   "source": [
    "25. Count down from 10 to 1\n",
    "✅ Use for loop"
   ]
  },
  {
   "cell_type": "code",
   "execution_count": 2,
   "id": "a4848334-ef2d-4218-a370-459926b88173",
   "metadata": {},
   "outputs": [
    {
     "name": "stdout",
     "output_type": "stream",
     "text": [
      "10\n",
      "9\n",
      "8\n",
      "7\n",
      "6\n",
      "5\n",
      "4\n",
      "3\n",
      "2\n",
      "1\n"
     ]
    }
   ],
   "source": [
    "for i in range(10,0,-1):\n",
    "    print(i)"
   ]
  },
  {
   "cell_type": "code",
   "execution_count": null,
   "id": "47fb6146-8430-4186-b728-bf94a94530fe",
   "metadata": {},
   "outputs": [],
   "source": [
    "26. Keep asking the user to guess a secret number until they guess correctly\n",
    "✅ Use while loop"
   ]
  },
  {
   "cell_type": "code",
   "execution_count": 12,
   "id": "a5bf3908-5f5d-47c8-bdfc-72a5556c81bd",
   "metadata": {},
   "outputs": [
    {
     "name": "stdin",
     "output_type": "stream",
     "text": [
      "enter secret number: 768907\n"
     ]
    },
    {
     "name": "stdout",
     "output_type": "stream",
     "text": [
      "Guess correctly\n"
     ]
    },
    {
     "name": "stdin",
     "output_type": "stream",
     "text": [
      "enter secret number: 456789\n"
     ]
    },
    {
     "name": "stdout",
     "output_type": "stream",
     "text": [
      "Guess correctly\n"
     ]
    },
    {
     "name": "stdin",
     "output_type": "stream",
     "text": [
      "enter secret number: 987654\n"
     ]
    },
    {
     "name": "stdout",
     "output_type": "stream",
     "text": [
      "Guess correctly\n"
     ]
    },
    {
     "name": "stdin",
     "output_type": "stream",
     "text": [
      "enter secret number: 311201\n"
     ]
    },
    {
     "name": "stdout",
     "output_type": "stream",
     "text": [
      "Correctly Guessed\n"
     ]
    }
   ],
   "source": [
    "while True:\n",
    "    number=int(input(\"enter secret number:\"))\n",
    "    if number==311201:\n",
    "        print(\"Correctly Guessed\")\n",
    "        break\n",
    "    else:\n",
    "        print(\"Guess correctly\")\n",
    "        "
   ]
  },
  {
   "cell_type": "code",
   "execution_count": null,
   "id": "b118f74d-769e-4908-b507-691320938b46",
   "metadata": {},
   "outputs": [],
   "source": [
    "27. Print the squares of numbers from 1 to 20\n",
    "✅ Use for loop"
   ]
  },
  {
   "cell_type": "code",
   "execution_count": 5,
   "id": "4c00f4a8-b4b8-4254-b2c5-8f8e3b92541c",
   "metadata": {},
   "outputs": [
    {
     "name": "stdout",
     "output_type": "stream",
     "text": [
      "1:1\n",
      "2:4\n",
      "3:9\n",
      "4:16\n",
      "5:25\n",
      "6:36\n",
      "7:49\n",
      "8:64\n",
      "9:81\n",
      "10:100\n",
      "11:121\n",
      "12:144\n",
      "13:169\n",
      "14:196\n",
      "15:225\n",
      "16:256\n",
      "17:289\n",
      "18:324\n",
      "19:361\n",
      "20:400\n"
     ]
    }
   ],
   "source": [
    "for i in range(1,21):\n",
    "    square=i**2\n",
    "    print(f'{i}:{square}')\n",
    "    "
   ]
  },
  {
   "cell_type": "code",
   "execution_count": null,
   "id": "042b61c1-765e-40ae-be2f-f0861fafd526",
   "metadata": {},
   "outputs": [],
   "source": [
    "28. Keep taking user input until they enter \"exit\"\n",
    "✅ Use while loop"
   ]
  },
  {
   "cell_type": "code",
   "execution_count": 11,
   "id": "a230b2a6-cf2c-476c-8040-02e1f106cddf",
   "metadata": {},
   "outputs": [
    {
     "name": "stdin",
     "output_type": "stream",
     "text": [
      "enter input: ytre\n"
     ]
    },
    {
     "name": "stdout",
     "output_type": "stream",
     "text": [
      "Incorrect input\n"
     ]
    },
    {
     "name": "stdin",
     "output_type": "stream",
     "text": [
      "enter input: exit\n"
     ]
    },
    {
     "name": "stdout",
     "output_type": "stream",
     "text": [
      "correct input\n"
     ]
    }
   ],
   "source": [
    "while True:\n",
    "    user=input(\"enter input:\")\n",
    "    if user ==\"exit\":\n",
    "        print(\"correct input\")\n",
    "        break\n",
    "    else:\n",
    "        print(\"Incorrect input\")\n",
    "        "
   ]
  },
  {
   "cell_type": "code",
   "execution_count": null,
   "id": "813b4937-f135-478f-bef7-536880767f79",
   "metadata": {},
   "outputs": [],
   "source": [
    "29. Reverse a given number digit by digit\n",
    "✅ Use while loop"
   ]
  },
  {
   "cell_type": "code",
   "execution_count": 3,
   "id": "ebbb43fd-6782-46ea-8dd0-5e7e7858c6df",
   "metadata": {},
   "outputs": [
    {
     "name": "stdin",
     "output_type": "stream",
     "text": [
      "enter value: 123\n"
     ]
    },
    {
     "name": "stdout",
     "output_type": "stream",
     "text": [
      "321\n"
     ]
    }
   ],
   "source": [
    "num=int(input(\"enter value:\"))\n",
    "reversed_num=0\n",
    "while(num>0):\n",
    "    lastno=num%10\n",
    "    reversed_num=reversed_num*10+lastno\n",
    "    num=num//10\n",
    "print(reversed_num)"
   ]
  },
  {
   "cell_type": "code",
   "execution_count": null,
   "id": "e72fb2e4-f0b0-4fc5-a92c-32c3b1b7752e",
   "metadata": {},
   "outputs": [],
   "source": [
    "30. Print all elements in a dictionary\n",
    "✅ Use for loop"
   ]
  },
  {
   "cell_type": "code",
   "execution_count": 2,
   "id": "716c5343-8e28-43f9-9ed8-208192fa3415",
   "metadata": {},
   "outputs": [
    {
     "name": "stdout",
     "output_type": "stream",
     "text": [
      "lock Key\n",
      "Note Pen\n",
      "Office Employee\n"
     ]
    }
   ],
   "source": [
    "dic={\"lock\":\"Key\",\"Note\":\"Pen\",\"Office\":\"Employee\"}\n",
    "for x,y in dic.items():\n",
    "    print(x,y)"
   ]
  },
  {
   "cell_type": "code",
   "execution_count": null,
   "id": "e9d50d35-1697-4a3c-8b85-562d81f5f2bc",
   "metadata": {},
   "outputs": [],
   "source": [
    "31. Keep halving a number until it becomes less than 1\n",
    "✅ Use while loop"
   ]
  },
  {
   "cell_type": "code",
   "execution_count": 3,
   "id": "3afe596a-b0e3-476a-9ffa-89ee84ed4146",
   "metadata": {},
   "outputs": [
    {
     "name": "stdin",
     "output_type": "stream",
     "text": [
      "enter number: 89\n"
     ]
    },
    {
     "name": "stdout",
     "output_type": "stream",
     "text": [
      "44\n",
      "22\n",
      "11\n",
      "5\n",
      "2\n",
      "1\n",
      "n becomes less than 1\n"
     ]
    }
   ],
   "source": [
    "n=int(input(\"enter number:\"))\n",
    "while (n>1):\n",
    "    n=n//2 \n",
    "    print(n)\n",
    "else:\n",
    "   print(\"n becomes less than 1\")\n",
    "    \n",
    "    \n",
    "    "
   ]
  },
  {
   "cell_type": "code",
   "execution_count": 2,
   "id": "4637917b-e6c2-4e5c-9ae1-8644fea8f69d",
   "metadata": {},
   "outputs": [],
   "source": [
    "n=98\n",
    "while (n<=1000):\n",
    "    n=n/2\n",
    "    if(n>1):\n",
    "        break\n",
    "    else:\n",
    "       print(n)"
   ]
  },
  {
   "cell_type": "code",
   "execution_count": null,
   "id": "0242d40f-1d9f-47a8-880b-34f605fa59bd",
   "metadata": {},
   "outputs": [],
   "source": [
    "32. Print all odd numbers from 1 to 100\n",
    "✅ Use for loop"
   ]
  },
  {
   "cell_type": "code",
   "execution_count": 7,
   "id": "03e3d64f-a97d-42fc-bddd-aedc920b64da",
   "metadata": {},
   "outputs": [
    {
     "name": "stdout",
     "output_type": "stream",
     "text": [
      "1\n",
      "3\n",
      "5\n",
      "7\n",
      "9\n",
      "11\n",
      "13\n",
      "15\n",
      "17\n",
      "19\n",
      "21\n",
      "23\n",
      "25\n",
      "27\n",
      "29\n",
      "31\n",
      "33\n",
      "35\n",
      "37\n",
      "39\n",
      "41\n",
      "43\n",
      "45\n",
      "47\n",
      "49\n",
      "51\n",
      "53\n",
      "55\n",
      "57\n",
      "59\n",
      "61\n",
      "63\n",
      "65\n",
      "67\n",
      "69\n",
      "71\n",
      "73\n",
      "75\n",
      "77\n",
      "79\n",
      "81\n",
      "83\n",
      "85\n",
      "87\n",
      "89\n",
      "91\n",
      "93\n",
      "95\n",
      "97\n",
      "99\n"
     ]
    }
   ],
   "source": [
    "for i in range(1,101):\n",
    "    if i%2!=0:\n",
    "        print(i)"
   ]
  },
  {
   "cell_type": "code",
   "execution_count": null,
   "id": "a74e5cc7-676f-4fca-a434-292d40c9307c",
   "metadata": {},
   "outputs": [],
   "source": [
    "33. Simulate a simple ATM system where the user can withdraw money until their balance is 0\n",
    "✅ Use while loop"
   ]
  },
  {
   "cell_type": "code",
   "execution_count": 3,
   "id": "b4b37b6d-3aea-4958-a232-114de5f07440",
   "metadata": {},
   "outputs": [
    {
     "name": "stdin",
     "output_type": "stream",
     "text": [
      "enter amount: 4000\n"
     ]
    },
    {
     "name": "stdout",
     "output_type": "stream",
     "text": [
      "you can withdraw amount\n",
      "bank_balance= 1000\n"
     ]
    },
    {
     "name": "stdin",
     "output_type": "stream",
     "text": [
      "enter amount: 200\n"
     ]
    },
    {
     "name": "stdout",
     "output_type": "stream",
     "text": [
      "you can withdraw amount\n",
      "bank_balance= 800\n"
     ]
    },
    {
     "name": "stdin",
     "output_type": "stream",
     "text": [
      "enter amount: 800\n"
     ]
    },
    {
     "name": "stdout",
     "output_type": "stream",
     "text": [
      "you can withdraw amount\n",
      "bank_balance= 0\n",
      "Don't have sufficient balance\n"
     ]
    }
   ],
   "source": [
    "bank_balance=5000\n",
    "while True:\n",
    "    with_draw = int(input(\"enter amount:\"))\n",
    "    if(with_draw<=bank_balance):\n",
    "        print(\"you can withdraw amount\")\n",
    "        bank_balance=bank_balance-with_draw\n",
    "        print(\"bank_balance=\",bank_balance)\n",
    "        \n",
    "    if bank_balance==0:\n",
    "        print(\"Don't have sufficient balance\")\n",
    "        break"
   ]
  },
  {
   "cell_type": "code",
   "execution_count": null,
   "id": "7ef69f3b-390b-4ac2-82b1-d7d6d51a2ea1",
   "metadata": {},
   "outputs": [],
   "source": [
    "34. Print the Fibonacci series up to the 20th term\n",
    "✅ Use for loop"
   ]
  },
  {
   "cell_type": "code",
   "execution_count": 2,
   "id": "35aa0541-2c71-4db5-9942-1b125d4254b8",
   "metadata": {},
   "outputs": [
    {
     "name": "stdin",
     "output_type": "stream",
     "text": [
      "enter value: 5\n"
     ]
    },
    {
     "name": "stdout",
     "output_type": "stream",
     "text": [
      "0\n",
      "1\n",
      "1\n",
      "2\n",
      "3\n"
     ]
    }
   ],
   "source": [
    "n=int(input(\"enter value:\"))\n",
    "f1=0\n",
    "f2=1\n",
    "print(f1)\n",
    "print(f2)\n",
    "for i in range(3,n+1):\n",
    "    f3=f1+f2\n",
    "    print(f3)\n",
    "    f1=f2\n",
    "    f2=f3"
   ]
  }
 ],
 "metadata": {
  "kernelspec": {
   "display_name": "Python 3 (ipykernel)",
   "language": "python",
   "name": "python3"
  },
  "language_info": {
   "codemirror_mode": {
    "name": "ipython",
    "version": 3
   },
   "file_extension": ".py",
   "mimetype": "text/x-python",
   "name": "python",
   "nbconvert_exporter": "python",
   "pygments_lexer": "ipython3",
   "version": "3.11.7"
  }
 },
 "nbformat": 4,
 "nbformat_minor": 5
}
