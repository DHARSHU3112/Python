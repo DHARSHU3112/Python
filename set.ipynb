{
 "cells": [
  {
   "cell_type": "code",
   "execution_count": null,
   "id": "849bb069-ef31-4009-b253-ec247e676584",
   "metadata": {},
   "outputs": [],
   "source": [
    "✅ Sets Tasks\n",
    "1.Find Common Elements Between Two Sets\n",
    "Given two sets, find the common elements.\n",
    "Example: {1, 2, 3, 4} and {3, 4, 5, 6} → {3, 4}\n",
    "2.Find Unique Elements from Two Lists Using Sets\n",
    "Given two lists, find all unique elements (no duplicates) using sets.\n",
    "Example: [1, 2, 3, 4] and [3, 4, 5, 6] → {1, 2, 3, 4, 5, 6}\n"
   ]
  },
  {
   "cell_type": "markdown",
   "id": "040ba509-b50f-4a31-8edf-909ea433c42a",
   "metadata": {},
   "source": [
    "Find the Common Elements between two sets"
   ]
  },
  {
   "cell_type": "code",
   "execution_count": 1,
   "id": "720104ed-0544-45d4-b802-f4111757e146",
   "metadata": {},
   "outputs": [
    {
     "name": "stdout",
     "output_type": "stream",
     "text": [
      "{3, 4}\n"
     ]
    }
   ],
   "source": [
    "p={1,2,3,4}\n",
    "k={3,4,5,6}\n",
    "p.intersection_update(k)\n",
    "print(p)"
   ]
  },
  {
   "cell_type": "code",
   "execution_count": 2,
   "id": "690d6de7-bb2a-415b-8a63-90d148b3e38a",
   "metadata": {},
   "outputs": [
    {
     "name": "stdout",
     "output_type": "stream",
     "text": [
      "{3, 4}\n"
     ]
    }
   ],
   "source": [
    "p={1,2,3,4}\n",
    "k={3,4,5,6}\n",
    "l=p.intersection(k)\n",
    "print(l)\n"
   ]
  },
  {
   "cell_type": "markdown",
   "id": "96646ae3-7a43-41fc-8cb3-8ed62ca9edc2",
   "metadata": {},
   "source": [
    "Find Unique Elements from 2 lists using sets"
   ]
  },
  {
   "cell_type": "code",
   "execution_count": 3,
   "id": "fea68b9c-bbdc-45b4-96af-7d9e4262a720",
   "metadata": {},
   "outputs": [
    {
     "name": "stdout",
     "output_type": "stream",
     "text": [
      "{1, 2, 5, 6}\n"
     ]
    }
   ],
   "source": [
    "w=[1,2,3,4]\n",
    "x=[3,4,5,6]\n",
    "y=set(w)\n",
    "z=set(x)\n",
    "a=y.symmetric_difference(z)\n",
    "print(a)"
   ]
  },
  {
   "cell_type": "code",
   "execution_count": 4,
   "id": "d675a3a6-5482-4a84-9531-0e29367d92c8",
   "metadata": {},
   "outputs": [
    {
     "name": "stdout",
     "output_type": "stream",
     "text": [
      "{1, 2, 5, 6}\n"
     ]
    }
   ],
   "source": [
    "y.symmetric_difference_update(z)\n",
    "print(y)"
   ]
  },
  {
   "cell_type": "markdown",
   "id": "c73ee0a6-f684-42f5-886d-fe500a56fe57",
   "metadata": {},
   "source": [
    "Basic Level\n",
    "1.Create a set of the first 10 natural numbers and print it.\n",
    "2.Write a program to add an element to a given set.\n",
    "3.Write a program to remove an element from a set using both remove() and discard().\n",
    "4.Check if a given element exists in a set or not.\n",
    "5.Write a program to find the length of a given set."
   ]
  },
  {
   "cell_type": "code",
   "execution_count": 5,
   "id": "4c8bb698-727c-4029-a0ee-2ae4330425e3",
   "metadata": {},
   "outputs": [
    {
     "name": "stdout",
     "output_type": "stream",
     "text": [
      "{1, 2, 3, 4, 5, 6, 7, 8, 9, 10}\n"
     ]
    }
   ],
   "source": [
    "set_1={1,2,3,4,5,6,7,8,9,10}\n",
    "print(set_1)"
   ]
  },
  {
   "cell_type": "code",
   "execution_count": 8,
   "id": "42966927-d534-4faa-92b5-fe9d53f77fb4",
   "metadata": {},
   "outputs": [
    {
     "name": "stdout",
     "output_type": "stream",
     "text": [
      "{1, 2, 3, 4, 5, 6, 7, 8, 9, 10, 11, 12}\n"
     ]
    }
   ],
   "source": [
    "set_1.add(11)\n",
    "set_1.add(12)\n",
    "print(set_1)"
   ]
  },
  {
   "cell_type": "code",
   "execution_count": 9,
   "id": "353a17bc-812e-49db-93bd-540d1f8a9100",
   "metadata": {},
   "outputs": [
    {
     "name": "stdout",
     "output_type": "stream",
     "text": [
      "{1, 2, 3, 4, 5, 6, 7, 8, 9, 10}\n"
     ]
    }
   ],
   "source": [
    "set_1.remove(11)\n",
    "set_1.discard(12)\n",
    "print(set_1)"
   ]
  },
  {
   "cell_type": "code",
   "execution_count": 11,
   "id": "b3e18102-fda4-4e52-aa88-e841a653f802",
   "metadata": {},
   "outputs": [
    {
     "name": "stdout",
     "output_type": "stream",
     "text": [
      "exists in set\n"
     ]
    }
   ],
   "source": [
    "if 2 in set_1:\n",
    "    print(\"exists in set\")"
   ]
  },
  {
   "cell_type": "code",
   "execution_count": 12,
   "id": "3bb6b3ba-3fc6-4998-99c5-dcc276dc4a5c",
   "metadata": {},
   "outputs": [
    {
     "data": {
      "text/plain": [
       "10"
      ]
     },
     "execution_count": 12,
     "metadata": {},
     "output_type": "execute_result"
    }
   ],
   "source": [
    "len(set_1)"
   ]
  },
  {
   "cell_type": "code",
   "execution_count": null,
   "id": "248571df-2c52-43f7-b061-33f145f0bf9f",
   "metadata": {},
   "outputs": [],
   "source": [
    "Intermediate Level\n",
    "6.Given two sets {1, 2, 3, 4, 5} and {4, 5, 6, 7, 8}, write a program to:\n",
    "Find their union\n",
    "Find their intersection\n",
    "Find their difference (elements in the first set but not in the second)\n",
    "Find their symmetric difference\n",
    "7.Write a Python program to remove all duplicate elements from a list using a set or Given a list of numbers, find all unique elements using a set.\n",
    "8.Write a Python function that takes two sets as input and returns True if one set is a subset of the other."
   ]
  },
  {
   "cell_type": "code",
   "execution_count": 14,
   "id": "844f9e46-78e2-4173-bc9b-c3aa6b2d438f",
   "metadata": {},
   "outputs": [
    {
     "name": "stdout",
     "output_type": "stream",
     "text": [
      "{1, 2, 3, 4, 5, 6, 7, 8}\n",
      "{4, 5, 6, 7, 8}\n",
      "{1, 2, 3}\n",
      "{1, 2, 3, 4, 5, 6, 7, 8}\n"
     ]
    }
   ],
   "source": [
    "set1={1,2,3,4,5}\n",
    "set2={4,5,6,7,8}\n",
    "set3=set1.union(set2)\n",
    "print(set3)\n",
    "set4=set.intersection(set2)\n",
    "print(set4)\n",
    "set1.difference_update(set2)\n",
    "print(set1)\n",
    "set5=set1.symmetric_difference(set2)\n",
    "print(set5)"
   ]
  },
  {
   "cell_type": "code",
   "execution_count": 17,
   "id": "282dfcef-7d8e-446b-86bf-7875c495bf16",
   "metadata": {},
   "outputs": [
    {
     "name": "stdout",
     "output_type": "stream",
     "text": [
      "{34, 45, 23, 'Tree', 89, 'Monkey'}\n"
     ]
    }
   ],
   "source": [
    "l=[23,45,89,23,\"Tree\",\"Monkey\",34,\"Monkey\",45]\n",
    "s=set(l)#set doesn't allow duplicate values\n",
    "print(s)"
   ]
  },
  {
   "cell_type": "code",
   "execution_count": 26,
   "id": "dccecdea-0cd8-4e53-8252-de1048bf4125",
   "metadata": {},
   "outputs": [
    {
     "name": "stdout",
     "output_type": "stream",
     "text": [
      "True\n",
      "True\n"
     ]
    }
   ],
   "source": [
    "w={1, 2, 3, 4, 5, 6, 7, 8}\n",
    "x={4, 5, 6, 7, 8}\n",
    "z=x.issubset(w)# x is a subset of w \n",
    "print(z)\n",
    "q=w.issuperset(x)# w is a superset of x\n",
    "print(q)"
   ]
  },
  {
   "cell_type": "code",
   "execution_count": null,
   "id": "3aefa3f9-a983-48ab-b7f8-f103b6bc89bc",
   "metadata": {},
   "outputs": [],
   "source": [
    "Advanced Level\n",
    "9.Write a program to check if two sets are disjoint (i.e., they have no elements in common).\n",
    "10.Given a list of words, write a program to find the number of unique words using a set.\n",
    "11.Implement a function to check if two sets are equal (i.e., contain the same elements).\n",
    "12.Write a program to generate all possible subsets of a given set.\n",
    "13.Given a string, write a program to count the number of unique characters using a set."
   ]
  },
  {
   "cell_type": "code",
   "execution_count": 28,
   "id": "48c95893-75e9-4600-9275-8aaa2c16c793",
   "metadata": {},
   "outputs": [
    {
     "name": "stdout",
     "output_type": "stream",
     "text": [
      "True\n"
     ]
    }
   ],
   "source": [
    "t={4, 5, 6, 7, 8}\n",
    "k={3,1,2}\n",
    "j=t.isdisjoint(k)\n",
    "print(j)"
   ]
  },
  {
   "cell_type": "code",
   "execution_count": 8,
   "id": "2f6b264c-8b58-41da-b112-a5cba5063783",
   "metadata": {},
   "outputs": [
    {
     "name": "stdout",
     "output_type": "stream",
     "text": [
      "contain same elements\n"
     ]
    }
   ],
   "source": [
    "t={4, 5, 6, 7, 8}\n",
    "k={4,5,6,7,8}\n",
    "if k==t:\n",
    "    print(\"contain same elements\")\n",
    "else:\n",
    "    print(\"doesn't contain same elements\")\n"
   ]
  },
  {
   "cell_type": "code",
   "execution_count": null,
   "id": "b1b1c24d-c480-4af3-a6bf-52552bc0c60e",
   "metadata": {},
   "outputs": [],
   "source": []
  }
 ],
 "metadata": {
  "kernelspec": {
   "display_name": "Python 3 (ipykernel)",
   "language": "python",
   "name": "python3"
  },
  "language_info": {
   "codemirror_mode": {
    "name": "ipython",
    "version": 3
   },
   "file_extension": ".py",
   "mimetype": "text/x-python",
   "name": "python",
   "nbconvert_exporter": "python",
   "pygments_lexer": "ipython3",
   "version": "3.11.7"
  }
 },
 "nbformat": 4,
 "nbformat_minor": 5
}
