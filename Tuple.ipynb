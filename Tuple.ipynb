{
 "cells": [
  {
   "cell_type": "code",
   "execution_count": null,
   "id": "197f7ca1-c59b-4b85-9271-7462695996ba",
   "metadata": {},
   "outputs": [],
   "source": [
    "✅ Tuples Tasks\n",
    "1.Convert List to Tuple\n",
    "Take a list from the user and convert it into a tuple.\n",
    "Example: [1, 2, 3, 4] → (1, 2, 3, 4)\n",
    "2.Find the Index of an Element in a Tuple\n",
    "Given a tuple and an element, find the index of the element.\n",
    "Example: (5, 10, 15, 20) → Element: 15 → Index: 2\n"
   ]
  },
  {
   "cell_type": "code",
   "execution_count": 5,
   "id": "909045a3-f1a5-48b8-b483-0fe05ba987f1",
   "metadata": {},
   "outputs": [
    {
     "name": "stdin",
     "output_type": "stream",
     "text": [
      "enter: 90,34,56\n"
     ]
    },
    {
     "name": "stdout",
     "output_type": "stream",
     "text": [
      "['90', '34', '56']\n",
      "('90', '34', '56')\n"
     ]
    }
   ],
   "source": [
    "f=input(\"enter:\").split(\",\")\n",
    "print(f)\n",
    "first=tuple(f)\n",
    "print(first)"
   ]
  },
  {
   "cell_type": "code",
   "execution_count": 6,
   "id": "3be2b4ad-b048-4bc7-9462-7137c20b5f85",
   "metadata": {},
   "outputs": [
    {
     "name": "stdout",
     "output_type": "stream",
     "text": [
      "The index value for  56 is: 0\n",
      "The index value for  hello is: 1\n",
      "The index value for  red is: 2\n",
      "The index value for  67 is: 3\n",
      "The index value for  (23, 45) is: 4\n",
      "The index value for  [34, 'flower'] is: 5\n"
     ]
    }
   ],
   "source": [
    "m=(56,\"hello\",\"red\",67,(23,45),[34,\"flower\"])\n",
    "for i in m:\n",
    "    p=m.index(i)\n",
    "    print(\"The index value for \",i,\"is:\",p)"
   ]
  },
  {
   "cell_type": "code",
   "execution_count": null,
   "id": "4f459295-7bae-410b-b500-bbcda5bd9b94",
   "metadata": {},
   "outputs": [],
   "source": [
    "Basic Tuple Operations\n",
    "3.Create a tuple with at least five elements and print it.\n",
    "4.Access elements in a tuple using positive and negative indexing.\n",
    "5.Find the length of a tuple without using len().\n",
    "6.Concatenate two tuples and print the result.\n",
    "7.Repeat a tuple multiple times using the * operator."
   ]
  },
  {
   "cell_type": "markdown",
   "id": "7e90db3e-9db6-40a8-8c90-4ddf22b0174b",
   "metadata": {},
   "source": [
    "Create a tuple with at least five elements and print it."
   ]
  },
  {
   "cell_type": "code",
   "execution_count": 1,
   "id": "c54cd30c-ef93-4eeb-b9d1-571ac4565b2b",
   "metadata": {},
   "outputs": [
    {
     "name": "stdout",
     "output_type": "stream",
     "text": [
      "('tree', ['you', 'me'], 89, 43)\n"
     ]
    }
   ],
   "source": [
    "p=(\"tree\",[\"you\",\"me\"],89,43)\n",
    "print(p)"
   ]
  },
  {
   "cell_type": "markdown",
   "id": "29ce4f97-d9a5-4b5a-8ffa-aa2b3c96fe53",
   "metadata": {},
   "source": [
    "Access elements in a tuple using positive and negative indexing."
   ]
  },
  {
   "cell_type": "code",
   "execution_count": 3,
   "id": "5fa4341b-b416-41d8-9776-7d8a667665dd",
   "metadata": {},
   "outputs": [
    {
     "name": "stdout",
     "output_type": "stream",
     "text": [
      "['you', 'me']\n",
      "tree\n",
      "('tree', ['you', 'me'])\n"
     ]
    }
   ],
   "source": [
    "print(p[1])\n",
    "print(p[-4])\n",
    "print(p[:2])"
   ]
  },
  {
   "cell_type": "markdown",
   "id": "606ed1e3-9797-4347-aab4-db29b58fcb29",
   "metadata": {},
   "source": [
    "Find the length of a tuple without using len()."
   ]
  },
  {
   "cell_type": "code",
   "execution_count": 4,
   "id": "64ff1d8b-0b69-49bd-9f9f-90ea268b73f8",
   "metadata": {},
   "outputs": [
    {
     "name": "stdout",
     "output_type": "stream",
     "text": [
      "4\n"
     ]
    }
   ],
   "source": [
    "p=(\"tree\",[\"you\",\"me\"],89,43)\n",
    "count=0\n",
    "for i in p:\n",
    "    count=count+1\n",
    "print(count)"
   ]
  },
  {
   "cell_type": "markdown",
   "id": "078e48de-98f9-4f28-b310-a8af1927e2c6",
   "metadata": {},
   "source": [
    "Concatenate two tuples and print the result."
   ]
  },
  {
   "cell_type": "code",
   "execution_count": 5,
   "id": "12f233ab-ff7a-4278-89bb-6a9b78fe91e9",
   "metadata": {},
   "outputs": [
    {
     "name": "stdout",
     "output_type": "stream",
     "text": [
      "('tree', ['you', 'me'], 89, 43, 56, 'hello', 'red', 67, (23, 45), [34, 'flower'])\n"
     ]
    }
   ],
   "source": [
    "p=(\"tree\",[\"you\",\"me\"],89,43)\n",
    "m=(56,\"hello\",\"red\",67,(23,45),[34,\"flower\"])\n",
    "v=p+m\n",
    "print(v)"
   ]
  },
  {
   "cell_type": "markdown",
   "id": "4e366358-618c-4c5a-9f36-264a098cd08f",
   "metadata": {},
   "source": [
    "Repeat a tuple multiple times using the * operator."
   ]
  },
  {
   "cell_type": "code",
   "execution_count": 6,
   "id": "cc377751-18a4-4136-8fe0-983a7c72d40a",
   "metadata": {},
   "outputs": [
    {
     "name": "stdout",
     "output_type": "stream",
     "text": [
      "(67, (23, 45), [34, 'flower'], 67, (23, 45), [34, 'flower'], 67, (23, 45), [34, 'flower'], 67, (23, 45), [34, 'flower'])\n"
     ]
    }
   ],
   "source": [
    "n=(67,(23,45),[34,\"flower\"])\n",
    "r=n*4\n",
    "print(r)"
   ]
  },
  {
   "cell_type": "code",
   "execution_count": null,
   "id": "4679f1cc-a60b-4d95-9f87-0ee73adde1d9",
   "metadata": {},
   "outputs": [],
   "source": [
    "Tuple Manipulation\n",
    "8.Check if an element exists in a tuple.\n",
    "9.Convert a tuple into a list, modify the list, and convert it back into a tuple.\n",
    "10.Find the maximum and minimum values in a tuple of numbers.\n",
    "11.Count the occurrences of an element in a tuple."
   ]
  },
  {
   "cell_type": "markdown",
   "id": "4d17c0d9-e8ab-46eb-b910-64fd746cdfca",
   "metadata": {},
   "source": [
    "Check if an element exists in a tuple."
   ]
  },
  {
   "cell_type": "code",
   "execution_count": 8,
   "id": "4d8616d2-c256-4f23-a52a-52f0c18aad23",
   "metadata": {},
   "outputs": [
    {
     "name": "stdout",
     "output_type": "stream",
     "text": [
      "yes\n"
     ]
    }
   ],
   "source": [
    "v=('tree', ['you', 'me'], 89, 43, 56, 'hello', 'red', 67, (23, 45), [34, 'flower'])\n",
    "if \"red\" in v:\n",
    "    print(\"yes\")\n",
    "else:\n",
    "    print(\"no\")"
   ]
  },
  {
   "cell_type": "code",
   "execution_count": null,
   "id": "fce84078-841a-48ae-b4b8-f2b5ca2ae51f",
   "metadata": {},
   "outputs": [],
   "source": [
    "Convert a tuple into a list, modify the list, and convert it back into a tuple."
   ]
  },
  {
   "cell_type": "code",
   "execution_count": 10,
   "id": "be798013-70a1-4c94-8125-73cd9789df9a",
   "metadata": {},
   "outputs": [
    {
     "name": "stdout",
     "output_type": "stream",
     "text": [
      "('tree', ['you', 'happy'], 89, 43, 56, 'hello', 'red', 67, (23, 45), [34, 'flower'])\n"
     ]
    }
   ],
   "source": [
    "v=('tree', ['you', 'me'], 89, 43, 56, 'hello', 'red', 67, (23, 45), [34, 'flower'])\n",
    "p=list(v)\n",
    "p[1][1]=\"happy\"\n",
    "l=tuple(p)\n",
    "print(l)"
   ]
  },
  {
   "cell_type": "markdown",
   "id": "40b61543-210d-42c4-bec5-0d0da947a9ba",
   "metadata": {},
   "source": [
    "Find the maximum and minimum values in a tuple of numbers."
   ]
  },
  {
   "cell_type": "code",
   "execution_count": null,
   "id": "c7c4640d-2e0f-431d-94a3-4da5817ec36c",
   "metadata": {},
   "outputs": [],
   "source": [
    "v=( 89, 43, 56,67, (23, 45), [34])\n",
    "v.sort()# sort() is not applicable for tuples because tuple is immutable\n",
    "print(v)# Attribute error(change tuple to list and sort values)"
   ]
  },
  {
   "cell_type": "code",
   "execution_count": 25,
   "id": "e042110d-e48e-4060-bc0e-e2bf0107fb7e",
   "metadata": {},
   "outputs": [
    {
     "name": "stdout",
     "output_type": "stream",
     "text": [
      "43\n",
      "89\n"
     ]
    }
   ],
   "source": [
    "v=( 89, 43, 56,67)\n",
    "i=list(v)\n",
    "i.sort()\n",
    "print(i[0])\n",
    "print(i[-1])"
   ]
  },
  {
   "cell_type": "code",
   "execution_count": 26,
   "id": "f30111ec-67da-408a-a8eb-7584f180c9cd",
   "metadata": {},
   "outputs": [
    {
     "name": "stdout",
     "output_type": "stream",
     "text": [
      "89\n",
      "23\n"
     ]
    }
   ],
   "source": [
    "v=( 89, 43, 56,67,23, 45)\n",
    "p=max(v)\n",
    "o=min(v)\n",
    "print(p)\n",
    "print(o)"
   ]
  },
  {
   "cell_type": "markdown",
   "id": "f459e8e8-73f5-477d-98b2-7c0333a9c8c9",
   "metadata": {},
   "source": [
    "Count the occurrences of an element in a tuple"
   ]
  },
  {
   "cell_type": "code",
   "execution_count": 30,
   "id": "3e038adf-c545-47c4-a5ec-b7d0c0be7e05",
   "metadata": {},
   "outputs": [
    {
     "name": "stdout",
     "output_type": "stream",
     "text": [
      "Count of 89 : 1\n",
      "Count of 43 : 2\n",
      "Count of 56 : 1\n",
      "Count of 67 : 1\n",
      "Count of 23 : 1\n",
      "Count of 45 : 3\n",
      "Count of 100 : 2\n",
      "Count of 43 : 2\n",
      "Count of 45 : 3\n",
      "Count of 98 : 1\n",
      "Count of 45 : 3\n",
      "Count of 100 : 2\n"
     ]
    }
   ],
   "source": [
    "v=( 89, 43, 56,67,23, 45,100,43,45,98,45,100)\n",
    "for i in v:\n",
    "    p=v.count(i)\n",
    "    print(\"Count of\",i,\":\",p)"
   ]
  },
  {
   "cell_type": "code",
   "execution_count": null,
   "id": "e9a33da8-1347-4f99-a1c0-cc60b37b5040",
   "metadata": {},
   "outputs": [],
   "source": [
    "Tuple Slicing and Unpacking\n",
    "12.Slice a tuple to get a subset of elements.\n",
    "13.Unpack a tuple into multiple variables.\n",
    "14.Swap two variables using tuple unpacking.\n",
    "15.Reverse a tuple using slicing.\n",
    "16.Convert a string into a tuple of characters.\n"
   ]
  },
  {
   "cell_type": "markdown",
   "id": "107135d6-f4d6-414c-91c2-a6cc1779d2cd",
   "metadata": {},
   "source": [
    "Slice a tuple to get a subset of elements."
   ]
  },
  {
   "cell_type": "code",
   "execution_count": 31,
   "id": "5b2f109b-0cbc-4115-86f3-cbe8a2b50fd2",
   "metadata": {},
   "outputs": [
    {
     "name": "stdout",
     "output_type": "stream",
     "text": [
      "('tree', ['you', 'happy'])\n",
      "('tree', ['you', 'happy'], 89, 43, 56)\n",
      "('hello', 'red', 67)\n"
     ]
    }
   ],
   "source": [
    "slice=('tree', ['you', 'happy'], 89, 43, 56, 'hello', 'red', 67, (23, 45), [34, 'flower'])\n",
    "subset_1=slice[0:2]\n",
    "subset_2=slice[:-5]\n",
    "subset_3=slice[-5:8]\n",
    "print(subset_1)\n",
    "print(subset_2)\n",
    "print(subset_3)"
   ]
  },
  {
   "cell_type": "markdown",
   "id": "0058cc88-3555-46a3-b1a4-8e678f3f1c01",
   "metadata": {},
   "source": [
    "Unpack a tuple into multiple variables."
   ]
  },
  {
   "cell_type": "code",
   "execution_count": 34,
   "id": "19370d2c-adba-4879-8cb3-b82280146e8e",
   "metadata": {},
   "outputs": [
    {
     "name": "stdout",
     "output_type": "stream",
     "text": [
      "tree\n",
      "[['you', 'happy'], 89, 43, 56, 67, (23, 45)]\n",
      "[34, 'flower']\n"
     ]
    }
   ],
   "source": [
    "slice=('tree', ['you', 'happy'], 89, 43, 56, 67, (23, 45), [34, 'flower'])\n",
    "(x,*y,z)=slice\n",
    "print(x)\n",
    "print(y)\n",
    "print(z)"
   ]
  },
  {
   "cell_type": "markdown",
   "id": "da88f983-a2d0-4826-a40e-b6d2d03f7bbd",
   "metadata": {},
   "source": [
    "Swap two variables using tuple unpacking."
   ]
  },
  {
   "cell_type": "code",
   "execution_count": 1,
   "id": "fd5fd611-17d6-4eb1-9f5a-25a2b7d60583",
   "metadata": {},
   "outputs": [
    {
     "name": "stdin",
     "output_type": "stream",
     "text": [
      "enter: 4\n",
      "enter: 6\n"
     ]
    },
    {
     "name": "stdout",
     "output_type": "stream",
     "text": [
      "6\n",
      "4\n"
     ]
    }
   ],
   "source": [
    "m=int(input(\"enter:\"))\n",
    "r=int(input(\"enter:\"))\n",
    "m,r=r,m#tuple unpacking occur\n",
    "print(m)\n",
    "print(r)"
   ]
  },
  {
   "cell_type": "markdown",
   "id": "c443327e-7114-4dab-8369-9b462ab54390",
   "metadata": {},
   "source": [
    "Reverse a tuple using slicing."
   ]
  },
  {
   "cell_type": "code",
   "execution_count": 36,
   "id": "60be4d70-41f3-48af-8e64-18096dcc8fcd",
   "metadata": {},
   "outputs": [
    {
     "name": "stdout",
     "output_type": "stream",
     "text": [
      "((23, 45), 67, 56, 43, 89, ['you', 'happy'])\n"
     ]
    }
   ],
   "source": [
    "w=(['you', 'happy'], 89, 43, 56, 67, (23, 45))\n",
    "x=w[::-1]\n",
    "print(x)"
   ]
  },
  {
   "cell_type": "markdown",
   "id": "59d0b488-d90d-47c0-8315-dc610ee07196",
   "metadata": {},
   "source": [
    "Convert a string into a tuple of characters."
   ]
  },
  {
   "cell_type": "code",
   "execution_count": 40,
   "id": "e1bceafc-8c78-4c5b-824a-22b26c2a36ba",
   "metadata": {},
   "outputs": [
    {
     "name": "stdout",
     "output_type": "stream",
     "text": [
      "('Trip', 'to', 'germany')\n"
     ]
    }
   ],
   "source": [
    "pure=\"Trip to germany\"\n",
    "impure=pure.split(\" \")\n",
    "print(tuple(impure))"
   ]
  },
  {
   "cell_type": "code",
   "execution_count": null,
   "id": "da69d4ff-38e5-4751-9e90-3f77e18754ad",
   "metadata": {},
   "outputs": [],
   "source": [
    "Tuple Functions and Applications\n",
    "17.Find the sum of all numbers in a tuple.\n",
    "18.Find the product of all numbers in a tuple.\n",
    "19.Merge two sorted tuples into one sorted tuple.\n",
    "20.Convert a list of tuples into a dictionary."
   ]
  },
  {
   "cell_type": "markdown",
   "id": "57055e7d-7a8c-4d09-bd88-7bffa275ac27",
   "metadata": {},
   "source": [
    "Find the sum of all numbers in a tuple."
   ]
  },
  {
   "cell_type": "code",
   "execution_count": 44,
   "id": "f3642866-5c75-4539-97af-67a6b8ce5a8f",
   "metadata": {},
   "outputs": [
    {
     "name": "stdout",
     "output_type": "stream",
     "text": [
      "323\n"
     ]
    }
   ],
   "source": [
    "b=( 89, 43, 56,67,23, 45)\n",
    "sum=0\n",
    "for i in b:\n",
    "    sum=sum+i\n",
    "print(sum)\n",
    "    "
   ]
  },
  {
   "cell_type": "markdown",
   "id": "ad052a2f-5bab-44fc-8a31-25c26f61fcd7",
   "metadata": {},
   "source": [
    "Find the product of all numbers in a tuple."
   ]
  },
  {
   "cell_type": "code",
   "execution_count": 46,
   "id": "124808c6-1e2f-4cb1-8f5a-42e58f5c9b94",
   "metadata": {},
   "outputs": [
    {
     "name": "stdout",
     "output_type": "stream",
     "text": [
      "14861465640\n"
     ]
    }
   ],
   "source": [
    "b=( 89, 43, 56,67,23, 45)\n",
    "product=1\n",
    "for i in b:\n",
    "    product=product*i\n",
    "print(product)\n",
    "    "
   ]
  },
  {
   "cell_type": "markdown",
   "id": "9c90ac85-d7d3-487f-a478-bd1c5df77675",
   "metadata": {},
   "source": [
    "Merge two sorted tuples into one sorted tuple."
   ]
  },
  {
   "cell_type": "code",
   "execution_count": 53,
   "id": "e1e75e23-3178-4684-8e18-1410bf014158",
   "metadata": {},
   "outputs": [
    {
     "name": "stdout",
     "output_type": "stream",
     "text": [
      "(23, 34, 43, 45, 56, 56, 67, 89, 90)\n"
     ]
    }
   ],
   "source": [
    "a=(90, 34, 56)\n",
    "c=( 89, 43, 56,67,23, 45)\n",
    "d=list(a)\n",
    "e=list(c)\n",
    "d.sort()\n",
    "e.sort()\n",
    "f=d+e\n",
    "f.sort()\n",
    "g=tuple(f)\n",
    "print(g)"
   ]
  },
  {
   "cell_type": "markdown",
   "id": "89d38e0c-e3cc-4794-9efa-9c3deb2f41c9",
   "metadata": {},
   "source": [
    "Convert a list of tuples into a dictionary."
   ]
  },
  {
   "cell_type": "code",
   "execution_count": 2,
   "id": "1e827c3d-0bfd-4a05-bd98-7ebc4dd0e607",
   "metadata": {},
   "outputs": [
    {
     "name": "stdout",
     "output_type": "stream",
     "text": [
      "{'white': 'red', 1: 2, 'mask': 'tree'}\n"
     ]
    }
   ],
   "source": [
    "u=[(\"white\",\"red\"),(1,2),(\"mask\",\"tree\")]\n",
    "p=dict(u)\n",
    "print(p)"
   ]
  },
  {
   "cell_type": "code",
   "execution_count": null,
   "id": "f268e0cd-3988-4259-a99b-427b055daf09",
   "metadata": {},
   "outputs": [],
   "source": [
    "Advanced Tuple Tasks\n",
    "21.Find common elements between two tuples.\n",
    "22.Remove duplicate elements from a tuple.\n",
    "23.Find elements present in one tuple but not in another.\n",
    "24.Create a nested tuple and access its elements.\n",
    "25.Find the most frequently occurring element in a tuple."
   ]
  },
  {
   "cell_type": "markdown",
   "id": "3130e36b-5ca6-4e3a-a5d4-fc9c43b3b634",
   "metadata": {},
   "source": [
    "Find common elements between two tuples."
   ]
  },
  {
   "cell_type": "code",
   "execution_count": 81,
   "id": "7f22a611-6690-4173-a489-959a0449f8dc",
   "metadata": {},
   "outputs": [
    {
     "name": "stdout",
     "output_type": "stream",
     "text": [
      "98\n"
     ]
    }
   ],
   "source": [
    "a=(34,56,98)\n",
    "m=(54,78,98,100)\n",
    "for i in a:\n",
    "    if i in m:\n",
    "        print(i)"
   ]
  },
  {
   "cell_type": "markdown",
   "id": "f43cf862-3b9d-45a9-b786-3cd430acbc87",
   "metadata": {},
   "source": [
    "Remove duplicate elements from a tuple."
   ]
  },
  {
   "cell_type": "code",
   "execution_count": 62,
   "id": "ea4e1a1a-7946-4cf4-bd40-fcc665f1d1a2",
   "metadata": {},
   "outputs": [
    {
     "name": "stdout",
     "output_type": "stream",
     "text": [
      "[89, 56, 67, 23, 43, 98, 45, 100]\n"
     ]
    }
   ],
   "source": [
    "v=( 89, 43, 56,67,23, 45,100,43,45,98,45,100)\n",
    "p=list(v)\n",
    "for i in p:\n",
    "    if p.count(i)>=2:\n",
    "        p.remove(i)\n",
    "print(p)        "
   ]
  },
  {
   "cell_type": "markdown",
   "id": "1bc428c8-950d-48f8-b1a3-04c2832cbe86",
   "metadata": {},
   "source": [
    "Find elements present in one tuple but not in another."
   ]
  },
  {
   "cell_type": "code",
   "execution_count": 80,
   "id": "15fd4cad-b8b6-4c79-83d1-46d84b7bc186",
   "metadata": {},
   "outputs": [
    {
     "name": "stdout",
     "output_type": "stream",
     "text": [
      "90\n",
      "34\n"
     ]
    }
   ],
   "source": [
    "a=(90, 34, 56)\n",
    "c=( 89, 43, 56,67,23, 45)\n",
    "for i in a:\n",
    "    if i not in c:\n",
    "        print(i)"
   ]
  },
  {
   "cell_type": "markdown",
   "id": "b9070e66-0d4d-4b84-b7b0-ccd4e85c5476",
   "metadata": {},
   "source": [
    "Create a nested tuple and access its elements."
   ]
  },
  {
   "cell_type": "code",
   "execution_count": 78,
   "id": "921f31d8-4cb0-48b2-ac9d-a96b79dae37f",
   "metadata": {},
   "outputs": [
    {
     "name": "stdout",
     "output_type": "stream",
     "text": [
      "[56, 43, 89, ['you', 'are', 'too', 'chill']]\n"
     ]
    }
   ],
   "source": [
    "a=((23, 45), 67, 56, 43, 89, ['you', 'happy'])\n",
    "p=list(a)\n",
    "nested=p[2:]\n",
    "nested[-1]=[\"you\",\"are\",\"too\",\"chill\"]\n",
    "print(nested)"
   ]
  },
  {
   "cell_type": "code",
   "execution_count": null,
   "id": "b042ba89-a12c-4693-b8fa-4fb2db7acc09",
   "metadata": {},
   "outputs": [],
   "source": []
  }
 ],
 "metadata": {
  "kernelspec": {
   "display_name": "Python 3 (ipykernel)",
   "language": "python",
   "name": "python3"
  },
  "language_info": {
   "codemirror_mode": {
    "name": "ipython",
    "version": 3
   },
   "file_extension": ".py",
   "mimetype": "text/x-python",
   "name": "python",
   "nbconvert_exporter": "python",
   "pygments_lexer": "ipython3",
   "version": "3.11.7"
  }
 },
 "nbformat": 4,
 "nbformat_minor": 5
}
