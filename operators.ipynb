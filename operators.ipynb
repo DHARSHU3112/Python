{
 "cells": [
  {
   "cell_type": "markdown",
   "id": "7ba7d5cd-6622-45ca-b234-9a301c295d8e",
   "metadata": {},
   "source": [
    "Operators"
   ]
  },
  {
   "cell_type": "code",
   "execution_count": null,
   "id": "c88d4a76-c4a7-47dc-b527-e7826982b0fd",
   "metadata": {},
   "outputs": [],
   "source": [
    "1.Simple Calculator: Perform addition, subtraction, multiplication, and division on two numbers. \n",
    "2.Odd or Even: Check if a number is odd or even using the modulus operator. \n",
    "3.Exponent Calculator: Take a base and exponent as input and print the result. (base^exponent) \n",
    "4.Divisibility Check: Check if a number is divisible by both 3 and 5. \n",
    "5.Area of Rectangle: Input length and width, and calculate the area and perimeter. \n",
    "6.Salary Increment: Take a salary amount and increment percentage, then calculate the new salary. \n",
    "7.Logical Operator Test: Ask for two boolean values and apply AND, OR, and NOT operations. \n",
    "8.Average of Five Numbers: Calculate the average of five numbers using arithmetic operators. \n",
    "9.Speed Calculator: Input distance and time, then calculate speed (Speed = distance/time). \n",
    "10.Compare Two Numbers: Print whether two numbers are equal, or which one is larger. "
   ]
  },
  {
   "cell_type": "code",
   "execution_count": 12,
   "id": "7d7296df-4a56-442e-a29c-82e344825dd3",
   "metadata": {},
   "outputs": [
    {
     "name": "stdin",
     "output_type": "stream",
     "text": [
      "enter value: 10\n",
      "enter value: 2\n"
     ]
    },
    {
     "name": "stdout",
     "output_type": "stream",
     "text": [
      "Addition: 12\n",
      "Subtraction: 8\n",
      "Multiplication: 20\n",
      "Division: 5.0\n"
     ]
    }
   ],
   "source": [
    "# simple calculator\n",
    "a=int(input(\"enter value:\"))\n",
    "b=int(input(\"enter value:\"))\n",
    "add=a+b\n",
    "sub=a-b\n",
    "mul=a*b\n",
    "div=a/b\n",
    "print(\"Addition:\",add)\n",
    "print(\"Subtraction:\",sub)\n",
    "print(\"Multiplication:\",mul)\n",
    "print(\"Division:\",div)"
   ]
  },
  {
   "cell_type": "code",
   "execution_count": 13,
   "id": "9be635ac-27ae-4245-bff1-d5132106e414",
   "metadata": {},
   "outputs": [
    {
     "name": "stdin",
     "output_type": "stream",
     "text": [
      "enter the value: 9\n"
     ]
    },
    {
     "name": "stdout",
     "output_type": "stream",
     "text": [
      "Odd Number: 9\n"
     ]
    }
   ],
   "source": [
    "#OddorEven\n",
    "num= int(input(\"enter the value:\"))\n",
    "if num%2==0:\n",
    "    print(\"Even Number:\",num)\n",
    "else:\n",
    "    print(\"Odd Number:\",num)"
   ]
  },
  {
   "cell_type": "code",
   "execution_count": 14,
   "id": "919f26bc-8105-41ed-aa58-a88c97cbd5eb",
   "metadata": {},
   "outputs": [
    {
     "name": "stdin",
     "output_type": "stream",
     "text": [
      "enter value: 2\n",
      "enter value: 3\n"
     ]
    },
    {
     "name": "stdout",
     "output_type": "stream",
     "text": [
      "8\n"
     ]
    }
   ],
   "source": [
    "#Exponent Calculator\n",
    "base=int(input(\"enter value:\"))\n",
    "exponent=int(input(\"enter value:\"))\n",
    "exponent_calculator=base**exponent\n",
    "print(exponent_calculator)"
   ]
  },
  {
   "cell_type": "code",
   "execution_count": 15,
   "id": "28f4a34a-9718-4180-a99a-e73bb53495d8",
   "metadata": {},
   "outputs": [
    {
     "name": "stdin",
     "output_type": "stream",
     "text": [
      "enter: 15\n"
     ]
    },
    {
     "name": "stdout",
     "output_type": "stream",
     "text": [
      "15 is divisible by both 3 & 5\n"
     ]
    }
   ],
   "source": [
    "# Divisibility Checking\n",
    "n=int(input(\"enter:\"))\n",
    "if(n/3 and n/5):\n",
    "    print(n,\"is divisible by both 3 & 5\")\n",
    "else:\n",
    "    print(n,\"is not divisible by both 3 & 5\")"
   ]
  },
  {
   "cell_type": "code",
   "execution_count": 16,
   "id": "335b41ff-1bf3-4d2c-a70b-d63c087691b6",
   "metadata": {},
   "outputs": [
    {
     "name": "stdin",
     "output_type": "stream",
     "text": [
      "enter length: 3\n",
      "enter breadth: 4\n"
     ]
    },
    {
     "name": "stdout",
     "output_type": "stream",
     "text": [
      "Area of Rectangle: 12\n",
      "Perimeter of Rectangle: 14\n"
     ]
    }
   ],
   "source": [
    "# Area & Perimeter of Rectangle\n",
    "l= int(input(\"enter length:\"))\n",
    "b=int(input(\"enter breadth:\"))\n",
    "area= l*b\n",
    "perimeter=2*(l+b)\n",
    "print(\"Area of Rectangle:\",area)\n",
    "print(\"Perimeter of Rectangle:\",perimeter)"
   ]
  },
  {
   "cell_type": "code",
   "execution_count": 17,
   "id": "155b566a-d9a6-4519-b3ae-dad536bf1998",
   "metadata": {},
   "outputs": [
    {
     "name": "stdin",
     "output_type": "stream",
     "text": [
      "enter the amount: 50000\n",
      "enter 0.08\n"
     ]
    },
    {
     "name": "stdout",
     "output_type": "stream",
     "text": [
      "54000.0\n"
     ]
    }
   ],
   "source": [
    "#Salary_increment\n",
    "salary=int(input(\"enter the amount:\"))\n",
    "increment_percentage=float(input(\"enter\"))\n",
    "new_salary=(increment_percentage*salary)+salary\n",
    "print(new_salary)"
   ]
  },
  {
   "cell_type": "code",
   "execution_count": 18,
   "id": "5cb9719b-0ab8-4869-a42d-65cedbad864c",
   "metadata": {},
   "outputs": [
    {
     "name": "stdin",
     "output_type": "stream",
     "text": [
      "enter value: True\n",
      "enter value: False\n"
     ]
    },
    {
     "name": "stdout",
     "output_type": "stream",
     "text": [
      "False\n",
      "True\n",
      "False\n",
      "False\n"
     ]
    }
   ],
   "source": [
    "#Logical Operator\n",
    "x= input(\"enter value:\")\n",
    "y=input(\"enter value:\")\n",
    "print(x and y)\n",
    "print(x or y)\n",
    "print(not x)\n",
    "print(not y)"
   ]
  },
  {
   "cell_type": "code",
   "execution_count": 19,
   "id": "78a73df8-ea2b-4a4d-ba90-c9ed8d79ef0c",
   "metadata": {},
   "outputs": [
    {
     "name": "stdin",
     "output_type": "stream",
     "text": [
      "value: 1\n",
      "value: 2\n",
      "value: 3\n",
      "value: 4\n",
      "value: 5\n"
     ]
    },
    {
     "name": "stdout",
     "output_type": "stream",
     "text": [
      "3.0\n"
     ]
    }
   ],
   "source": [
    "# Average of 5 numbers\n",
    "a=int(input(\"value:\"))\n",
    "b=int(input(\"value:\"))\n",
    "c=int(input(\"value:\"))\n",
    "d=int(input(\"value:\"))\n",
    "e=int(input(\"value:\"))\n",
    "Average=(a+b+c+d+e)/5\n",
    "print(Average)"
   ]
  },
  {
   "cell_type": "code",
   "execution_count": 20,
   "id": "6d120f04-0977-4089-8737-e3f66cf52477",
   "metadata": {},
   "outputs": [
    {
     "name": "stdin",
     "output_type": "stream",
     "text": [
      "enter value: 30\n",
      "enter value: 2\n"
     ]
    },
    {
     "name": "stdout",
     "output_type": "stream",
     "text": [
      "15.0\n"
     ]
    }
   ],
   "source": [
    "# speed Calculator\n",
    "distance=int(input(\"enter value:\"))\n",
    "time=int(input(\"enter value:\"))\n",
    "speed=distance/time\n",
    "print(speed)"
   ]
  },
  {
   "cell_type": "code",
   "execution_count": 21,
   "id": "fe967962-e517-4937-8982-5fb05c8514f9",
   "metadata": {},
   "outputs": [
    {
     "name": "stdin",
     "output_type": "stream",
     "text": [
      "enter: 23\n",
      "enter: 34\n"
     ]
    },
    {
     "name": "stdout",
     "output_type": "stream",
     "text": [
      "34 is greater than 23\n"
     ]
    }
   ],
   "source": [
    "# Compare two numbers\n",
    "num_1=int(input(\"enter:\"))\n",
    "num_2=int(input(\"enter:\"))\n",
    "if(num_1>=num_2):\n",
    "          if num_1>1:\n",
    "                print(num_1,\"is greater than \",num_2)\n",
    "          else:\n",
    "               print(num_1,\"is equal to \",num_2)\n",
    "else:\n",
    "    print(num_2,\"is greater than\",num_1)      "
   ]
  },
  {
   "cell_type": "code",
   "execution_count": 25,
   "id": "5baaa433-6328-461e-8c77-850a8bfb0a2a",
   "metadata": {},
   "outputs": [
    {
     "name": "stdout",
     "output_type": "stream",
     "text": [
      "Name:Adhitya\n",
      "Roll_no:5475\n",
      "Age:15\n",
      "Standard:10\n"
     ]
    },
    {
     "name": "stdin",
     "output_type": "stream",
     "text": [
      "Tamil_mark: 94\n",
      "English_mark: 91\n",
      "Maths_mark: 92\n",
      "Science_mark: 99\n",
      "Social_mark: 95\n"
     ]
    },
    {
     "name": "stdout",
     "output_type": "stream",
     "text": [
      "My tamil mark is 94 and english mark is 91\n",
      "Total: 471\n",
      "Average: 94.2\n",
      "GradeA\n"
     ]
    }
   ],
   "source": [
    "#10 Board exam result\n",
    "print(\"Name:Adhitya\")\n",
    "print(\"Roll_no:5475\")\n",
    "print(\"Age:15\")\n",
    "print(\"Standard:10\")\n",
    "m1=int(input(\"Tamil_mark:\"))\n",
    "m2=int(input(\"English_mark:\"))\n",
    "m3=int(input(\"Maths_mark:\"))\n",
    "m4=int(input(\"Science_mark:\"))\n",
    "m5=int(input(\"Social_mark:\"))\n",
    "print(f\"My tamil mark is {m1} and english mark is {m2}\")\n",
    "total= m1+m2+m3+m4+m5\n",
    "print(\"Total:\",total)\n",
    "average=total/5\n",
    "print(\"Average:\",average)\n",
    "if average>=90:\n",
    "    print(\"GradeA\")\n",
    "elif average>=70:\n",
    "    print(\"GradeB\")\n",
    "elif average>=40:\n",
    "    print(\"GradeC\")\n",
    "else:\n",
    "    print(\"GradeD\")\n"
   ]
  },
  {
   "cell_type": "code",
   "execution_count": null,
   "id": "4b4d8e38-b425-4815-8f4a-eb916a21de3f",
   "metadata": {},
   "outputs": [],
   "source": []
  }
 ],
 "metadata": {
  "kernelspec": {
   "display_name": "Python 3 (ipykernel)",
   "language": "python",
   "name": "python3"
  },
  "language_info": {
   "codemirror_mode": {
    "name": "ipython",
    "version": 3
   },
   "file_extension": ".py",
   "mimetype": "text/x-python",
   "name": "python",
   "nbconvert_exporter": "python",
   "pygments_lexer": "ipython3",
   "version": "3.11.7"
  }
 },
 "nbformat": 4,
 "nbformat_minor": 5
}
